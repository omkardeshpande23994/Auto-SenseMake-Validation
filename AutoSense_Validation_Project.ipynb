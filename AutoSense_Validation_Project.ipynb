{
 "cells": [
  {
   "cell_type": "markdown",
   "metadata": {},
   "source": [
    "# Automatic Sense Making and Explanation"
   ]
  },
  {
   "cell_type": "markdown",
   "metadata": {},
   "source": [
    "## Task A: Validation"
   ]
  },
  {
   "cell_type": "markdown",
   "metadata": {},
   "source": [
    "For Task A, I have used text classifiers models from scikit-learn for validation of data.  "
   ]
  },
  {
   "cell_type": "markdown",
   "metadata": {},
   "source": [
    "### Sorting Imports : \n",
    "\n",
    "For imports, I have used 3 main libraries :\n",
    "1. **Numpy** - For numpy arrays to process with Scikit Learn\n",
    "2. **Pandas** - Pandas Dataframes for reading and data manupulation\n",
    "3. **Scikit-Learn** - For implementation of text classification models"
   ]
  },
  {
   "cell_type": "code",
   "execution_count": 39,
   "metadata": {},
   "outputs": [],
   "source": [
    "%matplotlib inline\n",
    "\n",
    "import matplotlib.pyplot as plt\n",
    "import numpy as np\n",
    "import pandas as pd\n",
    "from matplotlib import pyplot as plt2\n",
    "from matplotlib.pyplot import xticks\n",
    "from nltk.classify.decisiontree import DecisionTreeClassifier\n",
    "from sklearn.discriminant_analysis import LinearDiscriminantAnalysis\n",
    "from sklearn.ensemble.forest import RandomForestClassifier\n",
    "from sklearn.feature_extraction.text import TfidfVectorizer\n",
    "from sklearn.model_selection import train_test_split\n",
    "from sklearn.naive_bayes import GaussianNB, MultinomialNB\n",
    "from sklearn.neighbors import KNeighborsClassifier\n",
    "from sklearn.preprocessing import LabelEncoder\n",
    "from sklearn.svm import SVC\n"
   ]
  },
  {
   "cell_type": "markdown",
   "metadata": {},
   "source": [
    "### File Handling :\n",
    "\n",
    "Here, I have read the CSV training as well as test(Trial) files along with their labels and transformed the minto pandas dataframe."
   ]
  },
  {
   "cell_type": "code",
   "execution_count": 40,
   "metadata": {},
   "outputs": [],
   "source": [
    "trainPath = \"/Training  Data/Training  Data/\"\n",
    "testPath = \"Trial Data/Trial Data/\"\n",
    "\n",
    "trainDatadf = pd.read_csv(\n",
    "    \"Training  Data/Training  Data/subtaskA_data_all.csv\", encoding=\"utf-8\"\n",
    ")\n",
    "trainLabeldf = pd.read_csv(\n",
    "    \"Training  Data/Training  Data/subtaskA_answers_all.csv\",\n",
    "    encoding=\"utf-8\",\n",
    "    header=None,\n",
    ")\n",
    "\n",
    "trialDatadf = pd.read_csv(\n",
    "    \"Trial Data/Trial Data/taskA_trial_data.csv\", encoding=\"utf-8\"\n",
    ")\n",
    "trialLabeldf = pd.read_csv(\n",
    "    \"Trial Data/Trial Data/taskA_trial_answer.csv\", encoding=\"utf-8\", header=None\n",
    ")"
   ]
  },
  {
   "cell_type": "markdown",
   "metadata": {},
   "source": [
    "As the train and test labels came without a column name, We are renaming them accordingly."
   ]
  },
  {
   "cell_type": "code",
   "execution_count": 41,
   "metadata": {},
   "outputs": [],
   "source": [
    "trainLabeldf.rename(columns={0: \"id\", 1: \"label\"}, inplace=True)\n",
    "trialLabeldf.rename(columns={0: \"id\", 1: \"label\"}, inplace=True)"
   ]
  },
  {
   "cell_type": "markdown",
   "metadata": {},
   "source": [
    "The labels given in the training and test datasets are inversed.  \n",
    "i.e. : the labels are showing non-sensical statement instead of correct ones, So we will **inverse** the columns"
   ]
  },
  {
   "cell_type": "code",
   "execution_count": 42,
   "metadata": {},
   "outputs": [],
   "source": [
    "# inverting train labels\n",
    "trainLabeldf[\"label\"] = ~(trainLabeldf[\"label\"].astype(\"bool\"))\n",
    "trainLabeldf[\"label\"] = trainLabeldf[\"label\"].astype(\"int\")\n",
    "\n",
    "# inverting test labels\n",
    "trialLabeldf[\"label\"] = ~(trialLabeldf[\"label\"].astype(\"bool\"))\n",
    "trialLabeldf[\"label\"] = trialLabeldf[\"label\"].astype(\"int\")"
   ]
  },
  {
   "cell_type": "markdown",
   "metadata": {},
   "source": [
    "Now, We will combine the train data and train labels for better manipulation."
   ]
  },
  {
   "cell_type": "code",
   "execution_count": 43,
   "metadata": {},
   "outputs": [],
   "source": [
    "# merge label and data\n",
    "trainDatadf = trainDatadf.merge(trainLabeldf, on=\"id\")\n",
    "trialDatadf = trialDatadf.merge(trialLabeldf, on=\"id\")"
   ]
  },
  {
   "cell_type": "markdown",
   "metadata": {},
   "source": [
    "From the newly created combined dataframe, We will check the correct sentence   \n",
    "and create a different copy with a list of correct statements which will be our features for training."
   ]
  },
  {
   "cell_type": "code",
   "execution_count": 44,
   "metadata": {},
   "outputs": [],
   "source": [
    "# taking correct data\n",
    "correctData = []\n",
    "correctLabel = []\n",
    "\n",
    "for index, row in trainDatadf.iterrows():\n",
    "    if row[\"label\"] == 1:\n",
    "        correctData.append(str(row[\"sent1\"]))\n",
    "        correctLabel.append(row[\"label\"])\n",
    "       \n",
    "    elif row[\"label\"] == 0:\n",
    "        correctData.append(str(row[\"sent0\"]))\n",
    "        correctLabel.append(row[\"label\"])"
   ]
  },
  {
   "cell_type": "markdown",
   "metadata": {},
   "source": [
    "Now for the test data, We will follow a similar stratergy by creating two copies of test dataframe.  \n",
    "1. Correct Data\n",
    "2. Wrong Data  \n",
    "  \n",
    "and we will combine the two into a single numpy array which is then passed to the model.    "
   ]
  },
  {
   "cell_type": "code",
   "execution_count": 45,
   "metadata": {},
   "outputs": [],
   "source": [
    "correctDataTrial = []\n",
    "wrongtDataTrial = []\n",
    "correctTrialLabel = []\n",
    "wrongTrialLabel = []\n",
    "for index, row in trialDatadf.iterrows():\n",
    "    if row[\"label\"] == 1:\n",
    "        correctDataTrial.append(str(row[\"sent1\"]))\n",
    "        correctTrialLabel.append(row[\"label\"])\n",
    "\n",
    "        wrongtDataTrial.append(str(row[\"sent0\"]))\n",
    "        wrongTrialLabel.append(row[\"label\"])\n",
    "\n",
    "    elif row[\"label\"] == 0:\n",
    "        correctDataTrial.append(str(row[\"sent0\"]))\n",
    "        correctTrialLabel.append(row[\"label\"])\n",
    "\n",
    "        wrongtDataTrial.append(str(row[\"sent1\"]))\n",
    "        wrongTrialLabel.append(row[\"label\"])"
   ]
  },
  {
   "cell_type": "markdown",
   "metadata": {},
   "source": [
    "Here, we are flattening the numpy array for both train and test data into a single 1D array as the model doesnt take multidimensional array for input.  "
   ]
  },
  {
   "cell_type": "code",
   "execution_count": 46,
   "metadata": {},
   "outputs": [],
   "source": [
    "TrainData = np.array([*correctData]).flatten()\n",
    "TrainLabel = np.array([*correctLabel]).flatten()\n",
    "\n",
    "TestData = np.array([*correctDataTrial, *wrongtDataTrial]).flatten()\n",
    "TestLabel = np.array([*correctTrialLabel, *wrongTrialLabel]).flatten()"
   ]
  },
  {
   "cell_type": "markdown",
   "metadata": {},
   "source": [
    "As the current data present in the dataframes are in sentence form, We have to convert them into numeric features which can be fed to the model.  \n",
    "There are several steps to be done here :    \n",
    "**1. Text Preprocessing**\n",
    "   - Converting text to lowercase letters  \n",
    "   - Removal of punctuation and special characters  \n",
    "   - Stemming/Lemmatization  \n",
    "   - Stop word removal \n",
    "     \n",
    "**2. Tokenization**  \n",
    "**3. Feature Extraction**  \n",
    "    \n",
    "All these steps can be done using different vectorizer models such as :    \n",
    "CountVectorizer, Bag of Words, CBOW, TF-IDF Vectorizer, etc.  \n",
    "  \n",
    "Here, We have used TF-IDF Vectorizer which better than most of the models.  \n",
    "  \n",
    "**Why TF-IDF?**  \n",
    "Because CountVectorizer or BOW will generally return the occurrences of words that can detrimental to your performance if your text has a lot of common words that can overcome the count of important topics in the text.  \n",
    "TF-IDF Vectorizer balances out the Term frequncy(which is occurrence) with the Inverse Document Frequency (How often the words appear across the dataset)\n",
    "So it provides a better score for tokenized words.  \n",
    "  \n",
    "**What does it do?**  \n",
    "TF-IDF Vectorizer performs all the preprocessing steps necessary for obtaining a cleaner data structure (lowercase, stopwords, etc.)  \n",
    "There is a different range of parameters that help us tweak the performance of TF-IDF.  \n",
    "Here, I have used lowercase (Auto), Stop word removal and N-gram from 1 to 3 to build a dictionary of n-grams to help improve the accuracy.  \n",
    "I have also defined max features as our matrix is very sparse.   \n",
    "This vectorizer tokenizes the words and creates a set of features for each sentence on a word level.  \n"
   ]
  },
  {
   "cell_type": "code",
   "execution_count": 47,
   "metadata": {},
   "outputs": [],
   "source": [
    "vectorizer = TfidfVectorizer(\n",
    "    stop_words=\"english\", ngram_range=(1, 3), max_features=18686\n",
    ")\n",
    "\n",
    "#Fit the train data\n",
    "X = vectorizer.fit_transform(TrainData).toarray()\n",
    "\n",
    "#Fit the test data\n",
    "Xtest = vectorizer.fit_transform(TestData).toarray()"
   ]
  },
  {
   "cell_type": "markdown",
   "metadata": {},
   "source": [
    "For classifier models, I have used different models to compare the accuracy between the classifiers. \n",
    "  \n",
    "**- Multinomial Naive Bayes**  \n",
    "**- Gaussian Naive Bayes**  \n",
    "**- Random Forest Classifier**   \n",
    "**- KNN Algorithm**  \n",
    "**- SVM**  \n",
    "**- LDA**  \n",
    "**- Decision Tree Classifier**  \n",
    "\n",
    "  \n",
    "### Multinomial Naive Bayes  \n",
    "Naive Bayes algorithm checks the conditional independence of each feature concerning the rest of the features.  \n",
    "Multinomial Naive Bayes is one of the categories in the Naive Bayes algorithm which specifies the type of distribution (Multinomial) for each of the features.  \n",
    "Multinomial distribution can be said as distribution covered over n number of independent experiments which provides a discrete number of possible outputs.  \n",
    "  \n",
    "### Gaussian Naive Bayes  \n",
    "Gaussian Naive Bayes is the simplest Naive Bayes model.  \n",
    "Gaussian distribution basically continuous probability distribution.  \n",
    "This algorithm checks the independence of each feature w.r.t its continuous distribution and provides the classification according to such distribution.  \n",
    "\n",
    "### Random Forest Classifier  \n",
    "Random Forest Classifier is an ensemble-based classification method that uses multiple ML models to predict better accuracy and performance than a single model.  \n",
    "RFC operates by constructing multiple decision trees and provides a mean classification amongst the trees.  \n",
    "Because of mean, RFC  prevents overfitting of training data which is generally a problem for decision trees.  \n",
    "  \n",
    "### KNN Algorithm  \n",
    "KNN is one of the most popular supervised learning algorithm which can be used for classification as well as regression.  \n",
    "It is a lazy learner who does all the work at runtime.  \n",
    "KNN works on feature similarity for classification of data,   \n",
    "i.e. the classification of data will depend on the features closely relating to the data and the distance between the features determines what classification of data should be as per the features.  \n"
   ]
  },
  {
   "cell_type": "code",
   "execution_count": 48,
   "metadata": {},
   "outputs": [],
   "source": [
    "models = [\n",
    "    (\"Multinomial Naive Bayes\", MultinomialNB()),\n",
    "    (\"Gaussian Naive Bayes\", GaussianNB()),\n",
    "    (\"Random Forest Classifier\", RandomForestClassifier(n_estimators=100, max_depth=2)),\n",
    "    (\"KNN Algorithm\", KNeighborsClassifier(algorithm=\"brute\", n_neighbors=3)),\n",
    "    # (\"SVM\", SVC(gamma=\"scale\")),\n",
    "    # (\"LDA\", LinearDiscriminantAnalysis()),\n",
    "    # (\"Decision Tree Classifier\", DecisionTreeClassifier(label=TrainLabel)),\n",
    "]"
   ]
  },
  {
   "cell_type": "markdown",
   "metadata": {},
   "source": [
    "## Hyperparameter Tuning\n",
    "\n",
    "In KNN and Random forest classifier, There is the number of parameters that can define the scope of the algorithm.  \n",
    "e.g. :  \n",
    "**For KNN**, there are 2 main parameters: number of neighbors and distance metric power  \n",
    "number of neighbors - the number of closest neighbors to consider while classifying the data point  \n",
    "Power - to identify the distance metric, 1 => Minkowski Distance , 2 => Euclidian distance etc.  \n",
    "  \n",
    "**For Random forest classifier**, We have estimators, max features, depth and criteria  \n",
    "Estimator - The number of trees to consider  \n",
    "max features - the maximum number of features to consider while looking for split  \n",
    "depth - the depth of each tree to explore  \n",
    "criteria - for quality of the split  \n",
    "  \n",
    "Tuning these hyper-parameters can drastically increase the accuracy of the model.  \n",
    "  \n",
    "I have done hyperparameter testing using **Grid Search Cross fold Validation**, in which we provide the search space   in which best hyper parameters can be observed.  "
   ]
  },
  {
   "cell_type": "code",
   "execution_count": 49,
   "metadata": {},
   "outputs": [],
   "source": [
    "### Hyperparameter Testing ###\n",
    "# knn = KNeighborsClassifier()\n",
    "# scores = model_selection.cross_val_score(knn, X, TrainLabel, cv=10)\n",
    "# print(scores.mean())\n",
    "# param_grid = [{\"n_neighbors\": list(range(1, 10)), \"p\": [1, 2, 3, 4, 5]}]\n",
    "# clf = GridSearchCV(KNeighborsClassifier(), param_grid, cv=10, n_jobs=-1)\n",
    "# clf.fit(X, TrainLabel)\n",
    "# print(\"\\n Best parameters set found on development set:\")\n",
    "# print(clf.best_params_, \"with a score of \", clf.best_score_)\n",
    "\n",
    "# rfc=RandomForestClassifier(random_state=42)\n",
    "# param_grid = {\n",
    "#     'n_estimators': [100, 500],\n",
    "#     'max_features': ['auto', 'sqrt', 'log2'],\n",
    "#     'max_depth' : [1,2,3,4,5],\n",
    "#     'criterion' :['gini', 'entropy']\n",
    "# }\n",
    "# CV_rfc = GridSearchCV(estimator=rfc, param_grid=param_grid, cv= 5)\n",
    "# CV_rfc.fit(X, TrainLabel)\n",
    "# print(CV_rfc.best_params_,\"with a score of \", CV_rfc.best_score_)"
   ]
  },
  {
   "cell_type": "markdown",
   "metadata": {},
   "source": [
    "Here, For each model we have trained it aginst train label and predicted the score of classification against test label.  \n",
    "We have used plt.bar for Bar graph representation.   "
   ]
  },
  {
   "cell_type": "code",
   "execution_count": 50,
   "metadata": {},
   "outputs": [
    {
     "name": "stdout",
     "output_type": "stream",
     "text": [
      "Accuracy of Multinomial Naive Bayes : 0.5042058386937159\n",
      "Accuracy of Gaussian Naive Bayes : 0.5017318159327065\n",
      "Accuracy of Random Forest Classifier : 0.49529935675408215\n",
      "Accuracy of KNN Algorithm : 0.5049480455220188\n"
     ]
    },
    {
     "data": {
      "image/png": "[encoded data removed]",
      "text/plain": [
       "<Figure size 432x288 with 1 Axes>"
      ]
     },
     "metadata": {
      "needs_background": "light"
     },
     "output_type": "display_data"
    }
   ],
   "source": [
    "for name, model in models:\n",
    "\n",
    "    model.fit(X, TrainLabel)\n",
    "\n",
    "    score = model.score(Xtest, TestLabel)\n",
    "    \n",
    "    plt.bar(name, score)\n",
    "    print(\"Accuracy of\", name, \":\", score)\n",
    "\n",
    "plt.ylim(ymin=0.45, ymax=0.55)\n",
    "plt.xticks(rotation=45)\n",
    "plt.show()\n"
   ]
  },
  {
   "cell_type": "markdown",
   "metadata": {},
   "source": [
    "\n",
    "### Output : \n",
    "Accuracy of Multinomial Naive Bayes : 0.5042058386937159  \n",
    "Accuracy of Gaussian Naive Bayes : 0.5017318159327065  \n",
    "Accuracy of Random Forest Classifier : 0.49925779317169716  \n",
    "Accuracy of KNN Algorithm : 0.5049480455220188  \n",
    "  "
   ]
  },
  {
   "cell_type": "markdown",
   "metadata": {},
   "source": [
    "## Evaluation of Task A against different Models :   \n",
    "\n",
    "\n",
    "| Best Performance |     Worst Performance    |\n",
    "|:----------------:|:------------------------:|\n",
    "|   KNN Algorithm  | Random Forest Classifier |\n",
    "|      50.49 %     |          49.92 %         |\n",
    "    \n",
    "As we can see from the graph, The accuracy between the models does not differ much (hardly by 1-2 %).  \n",
    "Still, The KNN algorithm performs best out of the 4 models whereas Random forest performs the worst.  \n",
    "  \n",
    "\n",
    "| Mean Accuracy | 50.42 % |\n",
    "|---------------|---------|    \n",
    "  \n",
    "    \n",
    "      \n",
    "  "
   ]
  },
  {
   "cell_type": "markdown",
   "metadata": {},
   "source": [
    "## Task B: Explanation (Multi-Choice)"
   ]
  },
  {
   "cell_type": "markdown",
   "metadata": {},
   "source": [
    "**In task B, I have implemented 2 approaches :**\n",
    "1. Using Text classification   \n",
    "2. Using N-gram language model    \n",
    "  \n",
    "In the text classification, I have followed a similar process as the first problem and used 4 models for comparison of accuracy.  "
   ]
  },
  {
   "cell_type": "markdown",
   "metadata": {},
   "source": [
    "### File Handling : "
   ]
  },
  {
   "cell_type": "code",
   "execution_count": 51,
   "metadata": {},
   "outputs": [],
   "source": [
    "trainDatadf = pd.read_csv(\n",
    "    \"Training  Data/Training  Data/subtaskB_data_all.csv\", encoding=\"utf-8\"\n",
    ")\n",
    "trainLabeldf = pd.read_csv(\n",
    "    \"Training  Data/Training  Data/subtaskB_answers_all.csv\",\n",
    "    encoding=\"utf-8\",\n",
    "    header=None,\n",
    ")\n",
    "\n",
    "trialDatadf = pd.read_csv(\n",
    "    \"Trial Data/Trial Data/taskB_trial_data.csv\", encoding=\"utf-8\"\n",
    ")\n",
    "trialLabeldf = pd.read_csv(\n",
    "    \"Trial Data/Trial Data/taskB_trial_answer.csv\", encoding=\"utf-8\", header=None\n",
    ")\n"
   ]
  },
  {
   "cell_type": "code",
   "execution_count": 52,
   "metadata": {},
   "outputs": [],
   "source": [
    "# rename columns of label\n",
    "trainLabeldf.rename(columns={0: \"id\", 1: \"answer\"}, inplace=True)\n",
    "trialLabeldf.rename(columns={0: \"id\", 1: \"answer\"}, inplace=True)"
   ]
  },
  {
   "cell_type": "markdown",
   "metadata": {},
   "source": [
    "Here, I have used Label Encoder, which converts the labels/classes with numberic values.  "
   ]
  },
  {
   "cell_type": "code",
   "execution_count": 53,
   "metadata": {},
   "outputs": [],
   "source": [
    "LE = LabelEncoder()\n",
    "trainLabeldf[\"label\"] = LE.fit_transform(trainLabeldf[\"answer\"])\n",
    "trialLabeldf[\"label\"] = LE.fit_transform(trialLabeldf[\"answer\"])"
   ]
  },
  {
   "cell_type": "code",
   "execution_count": 54,
   "metadata": {},
   "outputs": [],
   "source": [
    "# merge label and data\n",
    "trainDatadf = trainDatadf.merge(trainLabeldf, on=\"id\")\n",
    "trialDatadf = trialDatadf.merge(trialLabeldf, on=\"id\")"
   ]
  },
  {
   "cell_type": "markdown",
   "metadata": {},
   "source": [
    "Here, I have taken the Correct list of answers using the labels.  "
   ]
  },
  {
   "cell_type": "code",
   "execution_count": 55,
   "metadata": {},
   "outputs": [],
   "source": [
    "correctData = []\n",
    "correctLabel = []\n",
    "\n",
    "for index, row in trainDatadf.iterrows():\n",
    "    if row[\"answer\"] == \"A\":\n",
    "        correctData.append(str(row[\"OptionA\"]))\n",
    "        correctLabel.append(row[\"label\"])\n",
    "\n",
    "    elif row[\"answer\"] == \"B\":\n",
    "        correctData.append(str(row[\"OptionB\"]))\n",
    "        correctLabel.append(row[\"label\"])\n",
    "\n",
    "    elif row[\"answer\"] == \"C\":\n",
    "        correctData.append(str(row[\"OptionC\"]))\n",
    "        correctLabel.append(row[\"label\"])"
   ]
  },
  {
   "cell_type": "markdown",
   "metadata": {},
   "source": [
    "For the unseen data (Test Data), We have to take both right and wrong answers.  "
   ]
  },
  {
   "cell_type": "code",
   "execution_count": 56,
   "metadata": {},
   "outputs": [],
   "source": [
    "correctDataTrial = []\n",
    "wrongtDataTrial = []\n",
    "correctTrialLabel = []\n",
    "wrongTrialLabel = []\n",
    "for index, row in trialDatadf.iterrows():\n",
    "    if row[\"answer\"] == \"A\":\n",
    "        correctDataTrial.append(str(row[\"OptionA\"]))\n",
    "        correctTrialLabel.append(row[\"label\"])\n",
    "\n",
    "        wrongtDataTrial.append(str(row[\"OptionB\"]))\n",
    "        wrongtDataTrial.append(str(row[\"OptionC\"]))\n",
    "        wrongTrialLabel.extend((row[\"label\"], row[\"label\"]))\n",
    "    elif row[\"answer\"] == \"B\":\n",
    "        correctDataTrial.append(str(row[\"OptionB\"]))\n",
    "        correctTrialLabel.append(row[\"label\"])\n",
    "\n",
    "        wrongtDataTrial.append(str(row[\"OptionA\"]))\n",
    "        wrongtDataTrial.append(str(row[\"OptionC\"]))\n",
    "        wrongTrialLabel.extend((row[\"label\"], row[\"label\"]))\n",
    "    elif row[\"answer\"] == \"C\":\n",
    "        correctDataTrial.append(str(row[\"OptionC\"]))\n",
    "        correctTrialLabel.append(row[\"label\"])\n",
    "\n",
    "        wrongtDataTrial.append(str(row[\"OptionB\"]))\n",
    "        wrongtDataTrial.append(str(row[\"OptionC\"]))\n",
    "        wrongTrialLabel.extend((row[\"label\"], row[\"label\"]))"
   ]
  },
  {
   "cell_type": "markdown",
   "metadata": {},
   "source": [
    "Flattening the numpy array for both Train and test data.  "
   ]
  },
  {
   "cell_type": "code",
   "execution_count": 57,
   "metadata": {},
   "outputs": [],
   "source": [
    "TrainData = np.array([*correctData]).flatten()\n",
    "TrainLabel = np.array([*correctLabel]).flatten()\n",
    "\n",
    "TestData = np.array([*correctDataTrial, *wrongtDataTrial]).flatten()\n",
    "TestLabel = np.array([*correctTrialLabel, *wrongTrialLabel]).flatten()\n"
   ]
  },
  {
   "cell_type": "markdown",
   "metadata": {},
   "source": [
    "Checking the dimensions and length of the data.  "
   ]
  },
  {
   "cell_type": "code",
   "execution_count": 58,
   "metadata": {},
   "outputs": [],
   "source": [
    "# # Checking the Dimensions ##\n",
    "# print(len(correctData), len(correctLabel))\n",
    "# print(len(correctDataTrial), len(correctTrialLabel))\n",
    "# print(len(wrongtData), len(wrongLabel))\n",
    "# print(len(wrongtDataTrial), len(wrongTrialLabel))"
   ]
  },
  {
   "cell_type": "markdown",
   "metadata": {},
   "source": [
    "Tokenizing and Feature extraction using TF-IDF Vectorizer  "
   ]
  },
  {
   "cell_type": "code",
   "execution_count": 59,
   "metadata": {},
   "outputs": [],
   "source": [
    "vectorizer = TfidfVectorizer(\n",
    "    stop_words=\"english\", ngram_range=(1, 3), max_features=28461\n",
    ")\n",
    "\n",
    "# print(len(vectorizer.get_feature_names()))\n",
    "\n",
    "X = vectorizer.fit_transform(TrainData).toarray()\n",
    "\n",
    "Xtest = vectorizer.fit_transform(TestData).toarray()"
   ]
  },
  {
   "cell_type": "markdown",
   "metadata": {},
   "source": [
    "I have used four models for Accuracy comparison.  "
   ]
  },
  {
   "cell_type": "code",
   "execution_count": 60,
   "metadata": {},
   "outputs": [],
   "source": [
    "models = [\n",
    "    (\"Multinomial Naive Bayes\", MultinomialNB()),\n",
    "    (\"Gaussian Naive Bayes\", GaussianNB()),\n",
    "    (\"Random Forest Classifier\", RandomForestClassifier(n_estimators=100, max_depth=2)),\n",
    "    (\"KNN Algorithm\", KNeighborsClassifier(algorithm=\"brute\", n_neighbors=3)),\n",
    "    # (\"SVM\", SVC(gamma=\"scale\")),\n",
    "    # (\"LDA\", LinearDiscriminantAnalysis()),\n",
    "    # (\"Decision Tree Classifier\", DecisionTreeClassifier(label=TrainLabel)),\n",
    "]"
   ]
  },
  {
   "cell_type": "markdown",
   "metadata": {},
   "source": [
    "### Hyper-parameter Tuning :"
   ]
  },
  {
   "cell_type": "code",
   "execution_count": 61,
   "metadata": {},
   "outputs": [],
   "source": [
    "### Hyperparameter Testing ###\n",
    "# knn = KNeighborsClassifier()\n",
    "# scores = model_selection.cross_val_score(knn, X, TrainLabel, cv=10)\n",
    "# print(scores.mean())\n",
    "# param_grid = [{\"n_neighbors\": list(range(1, 10)), \"p\": [1, 2, 3, 4, 5]}]\n",
    "# clf = GridSearchCV(KNeighborsClassifier(), param_grid, cv=10, n_jobs=-1)\n",
    "# clf.fit(X, TrainLabel)\n",
    "# print(\"\\n Best parameters set found on development set:\")\n",
    "# print(clf.best_params_, \"with a score of \", clf.best_score_)\n",
    "\n",
    "# rfc=RandomForestClassifier(random_state=42)\n",
    "# param_grid = {\n",
    "#     'n_estimators': [100, 500],\n",
    "#     'max_features': ['auto', 'sqrt', 'log2'],\n",
    "#     'max_depth' : [1,2,3,4,5],\n",
    "#     'criterion' :['gini', 'entropy']\n",
    "# }\n",
    "# CV_rfc = GridSearchCV(estimator=rfc, param_grid=param_grid, cv= 5)\n",
    "# CV_rfc.fit(X, TrainLabel)\n",
    "# print(CV_rfc.best_params_,\"with a score of \", CV_rfc.best_score_)"
   ]
  },
  {
   "cell_type": "markdown",
   "metadata": {},
   "source": [
    "Train and calculate the score for each model.  "
   ]
  },
  {
   "cell_type": "code",
   "execution_count": 62,
   "metadata": {},
   "outputs": [
    {
     "name": "stdout",
     "output_type": "stream",
     "text": [
      "Accuracy of Multinomial Naive Bayes : 0.3420748804222332\n",
      "Accuracy of Gaussian Naive Bayes : 0.34553851228764637\n",
      "Accuracy of Random Forest Classifier : 0.32690087415470886\n",
      "Accuracy of KNN Algorithm : 0.33250865907966354\n"
     ]
    },
    {
     "data": {
      "image/png": "[encoded data removed]",
      "text/plain": [
       "<Figure size 432x288 with 1 Axes>"
      ]
     },
     "metadata": {
      "needs_background": "light"
     },
     "output_type": "display_data"
    }
   ],
   "source": [
    "for name, model in models:\n",
    "\n",
    "    model.fit(X, TrainLabel)\n",
    "\n",
    "    score = model.score(Xtest, TestLabel)\n",
    "    \n",
    "    plt2.bar(name, score)\n",
    "    print(\"Accuracy of\", name, \":\", score)\n",
    "    \n",
    "plt2.ylim(ymin=0.30, ymax=0.40)\n",
    "plt2.xticks(rotation=45)\n",
    "plt2.show()\n"
   ]
  },
  {
   "cell_type": "markdown",
   "metadata": {},
   "source": [
    "### Output :   \n",
    "Accuracy of Multinomial Naive Bayes : 0.3420748804222332  \n",
    "Accuracy of Gaussian Naive Bayes : 0.34553851228764637  \n",
    "Accuracy of Random Forest Classifier : 0.32657100445324094  \n",
    "Accuracy of KNN Algorithm : 0.33250865907966354  \n",
    "  "
   ]
  },
  {
   "cell_type": "markdown",
   "metadata": {},
   "source": [
    "## Evaluation of Task B against different Models :   \n",
    "  \n",
    "    \n",
    "\n",
    "|   Best Performance   |     Worst Performance    |\n",
    "|:--------------------:|:------------------------:|\n",
    "| Gaussian Naive Bayes | Random Forest Classifier |\n",
    "|        34.55 %       |          32.65 %         |  \n",
    "  \n",
    "    \n",
    "As we can see from the graph, The accuracy between the models lies somewhere between 32 to 35 %.  \n",
    "The Gaussian Navie Bayes algorithm performs best out of the 4 models whereas Random forest performs the worst.  \n",
    "  \n",
    "\n",
    "| Mean Accuracy | 33.66 % |\n",
    "|---------------|---------|    "
   ]
  },
  {
   "cell_type": "markdown",
   "metadata": {},
   "source": [
    "## Using N-gram language model "
   ]
  },
  {
   "cell_type": "markdown",
   "metadata": {},
   "source": [
    "Other than text classification, I have also tried to find the Accuracy with N-Gram language model for Task B,  \n",
    "But I have not completed the code yet.  "
   ]
  },
  {
   "cell_type": "code",
   "execution_count": null,
   "metadata": {},
   "outputs": [],
   "source": [
    "trainDatadf = pd.read_csv(\n",
    "    \"Training  Data/Training  Data/subtaskB_data_all.csv\", encoding=\"utf-8\"\n",
    ")\n",
    "trainLabeldf = pd.read_csv(\n",
    "    \"Training  Data/Training  Data/subtaskB_answers_all.csv\",\n",
    "    encoding=\"utf-8\",\n",
    "    header=None,\n",
    ")\n",
    "\n",
    "trialDatadf = pd.read_csv(\n",
    "    \"Trial Data/Trial Data/taskB_trial_data.csv\", encoding=\"utf-8\"\n",
    ")\n",
    "trialLabeldf = pd.read_csv(\n",
    "    \"Trial Data/Trial Data/taskB_trial_answer.csv\", encoding=\"utf-8\", header=None\n",
    ")\n",
    "\n",
    "# name columns of label\n",
    "trainLabeldf.rename(columns={0: \"id\", 1: \"answer\"}, inplace=True)\n",
    "trialLabeldf.rename(columns={0: \"id\", 1: \"answer\"}, inplace=True)\n",
    "\n",
    "\n",
    "LE = LabelEncoder()\n",
    "trainLabeldf[\"label\"] = LE.fit_transform(trainLabeldf[\"answer\"])\n",
    "trialLabeldf[\"label\"] = LE.fit_transform(trialLabeldf[\"answer\"])\n",
    "\n",
    "\n",
    "# merge label and data\n",
    "trainDatadf = trainDatadf.merge(trainLabeldf, on=\"id\")\n",
    "trialDatadf = trialDatadf.merge(trialLabeldf, on=\"id\")\n",
    "\n",
    "\n",
    "correctData = []\n",
    "correctLabel = []\n",
    "\n",
    "for index, row in trainDatadf.iterrows():\n",
    "    if row[\"answer\"] == \"A\":\n",
    "        correctData.append(str(row[\"OptionA\"]))\n",
    "        correctLabel.append(row[\"label\"])\n",
    "\n",
    "    elif row[\"answer\"] == \"B\":\n",
    "        correctData.append(str(row[\"OptionB\"]))\n",
    "        correctLabel.append(row[\"label\"])\n",
    "\n",
    "    elif row[\"answer\"] == \"C\":\n",
    "        correctData.append(str(row[\"OptionC\"]))\n",
    "        correctLabel.append(row[\"label\"])\n",
    "\n",
    "\n",
    "# print(len(correctData), len(correctLabel))\n",
    "\n",
    "correctDataTrial = []\n",
    "wrongtDataTrial = []\n",
    "correctTrialLabel = []\n",
    "wrongTrialLabel = []\n",
    "for index, row in trialDatadf.iterrows():\n",
    "    if row[\"answer\"] == \"A\":\n",
    "        correctDataTrial.append(str(row[\"OptionA\"]))\n",
    "        correctTrialLabel.append(row[\"label\"])\n",
    "\n",
    "        wrongtDataTrial.append(str(row[\"OptionB\"]))\n",
    "        wrongtDataTrial.append(str(row[\"OptionC\"]))\n",
    "        wrongTrialLabel.extend((row[\"label\"], row[\"label\"]))\n",
    "    elif row[\"answer\"] == \"B\":\n",
    "        correctDataTrial.append(str(row[\"OptionB\"]))\n",
    "        correctTrialLabel.append(row[\"label\"])\n",
    "\n",
    "        wrongtDataTrial.append(str(row[\"OptionA\"]))\n",
    "        wrongtDataTrial.append(str(row[\"OptionC\"]))\n",
    "        wrongTrialLabel.extend((row[\"label\"], row[\"label\"]))\n",
    "    elif row[\"answer\"] == \"C\":\n",
    "        correctDataTrial.append(str(row[\"OptionC\"]))\n",
    "        correctTrialLabel.append(row[\"label\"])\n",
    "\n",
    "        wrongtDataTrial.append(str(row[\"OptionB\"]))\n",
    "        wrongtDataTrial.append(str(row[\"OptionC\"]))\n",
    "        wrongTrialLabel.extend((row[\"label\"], row[\"label\"]))\n",
    "\n",
    "\n",
    "text = \" \".join(correctData)\n",
    "tokenized_text = [\n",
    "    list(map(str.lower, word_tokenize(sent))) for sent in sent_tokenize(text)\n",
    "]\n",
    "\n",
    "\n",
    "n = 3\n",
    "train_data, padded_sents = padded_everygram_pipeline(n, tokenized_text)\n",
    "\n",
    "model = MLE(n)\n",
    "\n",
    "model.fit(train_data, padded_sents)\n",
    "\n",
    "# print(model.counts['cereal'])\n",
    "for index, row in trialDatadf.iterrows():\n",
    "    # print(model.score(row[\"sent0\"].split()))\n",
    "\n",
    "    tokenized_optA = sent_tokenize(row[\"OptionA\"])\n",
    "    print(model.score(tokenized_optA))\n",
    "    tokenized_optB = sent_tokenize(row[\"OptionB\"])\n",
    "    print(model.score(tokenized_optB))\n",
    "    tokenized_optC = sent_tokenize(row[\"OptionC\"])\n",
    "    print(model.score(tokenized_optC))\n",
    "\n",
    "# print(trainDatadf.columns)"
   ]
  },
  {
   "cell_type": "markdown",
   "metadata": {},
   "source": [
    "## Task C: Explanation (Generation)"
   ]
  },
  {
   "cell_type": "markdown",
   "metadata": {},
   "source": [
    "In the third task , I have tried 2 approaches:    \n",
    "1. Word Level Neural Language model with LSTM.   \n",
    "2. BERT language model for generation of text.  \n",
    "  "
   ]
  },
  {
   "cell_type": "markdown",
   "metadata": {},
   "source": [
    "## Word-Level Neural Language model with LSTM"
   ]
  },
  {
   "cell_type": "markdown",
   "metadata": {},
   "source": [
    "### Sorting Imports :\n",
    "  \n",
    "Here, I have used Keras library and Tensarflow in the backend.  "
   ]
  },
  {
   "cell_type": "code",
   "execution_count": null,
   "metadata": {},
   "outputs": [],
   "source": [
    "import string\n",
    "from pickle import dump, load\n",
    "from random import randint\n",
    "\n",
    "from keras.layers import LSTM, Dense, Embedding\n",
    "from keras.models import Sequential, load_model\n",
    "from keras.preprocessing.sequence import pad_sequences\n",
    "from keras.preprocessing.text import Tokenizer\n",
    "from keras.utils import to_categorical\n",
    "from numpy import array"
   ]
  },
  {
   "cell_type": "markdown",
   "metadata": {},
   "source": [
    "### File Handling :  \n",
    "  \n",
    "In the snippet below, I have used 3 functions :  \n",
    "1. load_doc : for loading the document in memory.  \n",
    "2. save_doc : for saving the respective tokens in the file.  \n",
    "3. clean_doc: for cleaning the data(lowercase,whitespace,special characters) and tokenizing the cleaned data.  \n",
    "  "
   ]
  },
  {
   "cell_type": "code",
   "execution_count": null,
   "metadata": {},
   "outputs": [],
   "source": [
    "# load doc into memory\n",
    "def load_doc(filename):\n",
    "    # open the file as read only\n",
    "    file = open(filename, \"r\")\n",
    "    # read all text\n",
    "    text = file.read()\n",
    "    # close the file\n",
    "    file.close()\n",
    "    return text\n",
    "\n",
    "\n",
    "# turn a doc into clean tokens\n",
    "def clean_doc(doc):\n",
    "    # replace '--' with a space ' '\n",
    "    doc = doc.replace(\"--\", \" \")\n",
    "    # split into tokens by white space\n",
    "    tokens = doc.split()\n",
    "    # remove punctuation from each token\n",
    "    table = str.maketrans(\"\", \"\", string.punctuation)\n",
    "    tokens = [w.translate(table) for w in tokens]\n",
    "    # remove remaining tokens that are not alphabetic\n",
    "    tokens = [word for word in tokens if word.isalpha()]\n",
    "    # make lower case\n",
    "    tokens = [word.lower() for word in tokens]\n",
    "    return tokens\n",
    "\n",
    "\n",
    "# save tokens to file, one dialog per line\n",
    "def save_doc(lines, filename):\n",
    "    data = \"\\n\".join(lines)\n",
    "    file = open(filename, \"w\")\n",
    "    file.write(data)\n",
    "    file.close()"
   ]
  },
  {
   "cell_type": "markdown",
   "metadata": {},
   "source": [
    "### Driver code for Tokenizing and sequence generation :  \n"
   ]
  },
  {
   "cell_type": "code",
   "execution_count": null,
   "metadata": {},
   "outputs": [],
   "source": [
    "## Driver Code ##\n",
    "\n",
    "# load document\n",
    "in_filename = \"Training  Data/Training  Data/subtaskC_answers_all.csv\"\n",
    "doc = load_doc(in_filename)\n",
    "\n",
    "\n",
    "# clean document\n",
    "tokens = clean_doc(doc)\n",
    "print(tokens[:10])\n",
    "print(\"Total Tokens: %d\" % len(tokens))\n",
    "print(\"Unique Tokens: %d\" % len(set(tokens)))\n",
    "\n",
    "# organize into sequences of tokens\n",
    "length = 10 + 1\n",
    "sequences = list()\n",
    "for i in range(length, len(tokens)):\n",
    "    # select sequence of tokens\n",
    "    seq = tokens[i - length : i]\n",
    "    # convert into a line\n",
    "    line = \" \".join(seq)\n",
    "    # store\n",
    "    sequences.append(line)\n",
    "print(\"Total Sequences: %d\" % len(sequences))\n",
    "\n",
    "# save sequences to file\n",
    "out_filename = \"sequenced_Data.txt\"\n",
    "save_doc(sequences, out_filename)"
   ]
  },
  {
   "cell_type": "markdown",
   "metadata": {},
   "source": [
    "### Train the model : \n"
   ]
  },
  {
   "cell_type": "markdown",
   "metadata": {},
   "source": [
    "Loading the file in memory and splitting the sentences by nextline.  "
   ]
  },
  {
   "cell_type": "code",
   "execution_count": null,
   "metadata": {},
   "outputs": [],
   "source": [
    "# load\n",
    "in_filename = \"sequenced_Data.txt\"\n",
    "doc = load_doc(in_filename)\n",
    "lines = doc.split(\"\\n\")"
   ]
  },
  {
   "cell_type": "markdown",
   "metadata": {},
   "source": [
    "Tokenizing the thes lines from text using fit_on_texts method of tokenizer and generate the sequences.  "
   ]
  },
  {
   "cell_type": "code",
   "execution_count": null,
   "metadata": {},
   "outputs": [],
   "source": [
    "# tokenizing and conversion of sequences of words\n",
    "tokenizer = Tokenizer()\n",
    "tokenizer.fit_on_texts(lines)\n",
    "sequences = tokenizer.texts_to_sequences(lines)\n",
    "# generating a vocab size\n",
    "vocab_size = len(tokenizer.word_index) + 1"
   ]
  },
  {
   "cell_type": "markdown",
   "metadata": {},
   "source": [
    "Separating the sequence generated to input and our sequences, and converting the output to_categorical which converts the vectors(classes) into binary matrix.  "
   ]
  },
  {
   "cell_type": "code",
   "execution_count": null,
   "metadata": {},
   "outputs": [],
   "source": [
    "# separate into input and output\n",
    "sequences = array(sequences)\n",
    "X, y = sequences[:, :-1], sequences[:, -1]\n",
    "y = to_categorical(y, num_classes=vocab_size)\n",
    "seq_length = X.shape[1]\n"
   ]
  },
  {
   "cell_type": "markdown",
   "metadata": {},
   "source": [
    "Defining a sequencial Model and using inbuild model LSTM for fitting the data.  "
   ]
  },
  {
   "cell_type": "markdown",
   "metadata": {},
   "source": [
    "#### LSTM (Long Short Term Memory networks):  \n",
    "Special kind of RNN which are cabpable of learning long-term dependacies.   \n",
    "LSTM avoid the issue of long term dependancies which is sometimes necessary if we need to get recent information for the present task.  \n",
    "LSTM works on chain like structure containing multiple neural networks inside which works on cell state.  "
   ]
  },
  {
   "cell_type": "code",
   "execution_count": null,
   "metadata": {},
   "outputs": [],
   "source": [
    "# define model\n",
    "model = Sequential()\n",
    "#adding the vocab with vector space as 10, which we have specified in the sequence\n",
    "model.add(Embedding(vocab_size, 10, input_length=seq_length))\n",
    "\n",
    "#defininf the LSTM model with memory cells 100\n",
    "model.add(LSTM(100, return_sequences=True))\n",
    "\n",
    "#adding another layer of LSTM with 100 memory cells\n",
    "model.add(LSTM(100))\n",
    "\n",
    "#dense connectionwith 100 neurons\n",
    "model.add(Dense(100, activation=\"relu\"))\n",
    "\n",
    "#softmax for normalising the probabilities\n",
    "model.add(Dense(vocab_size, activation=\"softmax\"))\n",
    "print(model.summary())"
   ]
  },
  {
   "cell_type": "markdown",
   "metadata": {},
   "source": [
    "### Compiling the Model"
   ]
  },
  {
   "cell_type": "code",
   "execution_count": null,
   "metadata": {},
   "outputs": [],
   "source": [
    "# compile model\n",
    "model.compile(loss=\"categorical_crossentropy\", optimizer=\"adam\", metrics=[\"accuracy\"])\n",
    "\n",
    "# fit model\n",
    "model.fit(X, y, batch_size=128, epochs=10)\n",
    "\n",
    "# save the model(model.h5) in current directory\n",
    "model.save(\"model.h5\")"
   ]
  },
  {
   "cell_type": "code",
   "execution_count": null,
   "metadata": {},
   "outputs": [],
   "source": [
    "# save the tokenizer\n",
    "dump(tokenizer, open(\"tokenizer.pkl\", \"wb\"))"
   ]
  },
  {
   "cell_type": "markdown",
   "metadata": {},
   "source": [
    "### Load the model "
   ]
  },
  {
   "cell_type": "code",
   "execution_count": null,
   "metadata": {},
   "outputs": [],
   "source": [
    "# Load the model\n",
    "\n",
    "# load cleaned text sequences\n",
    "in_filename = \"sequenced_Data.txt\"\n",
    "doc = load_doc(in_filename)\n",
    "lines = doc.split(\"\\n\")\n",
    "seq_length = len(lines[0].split()) - 1\n",
    "\n",
    "# load the model\n",
    "model = load_model(\"model.h5\")\n",
    "\n",
    "# load the tokenizer\n",
    "tokenizer = load(open(\"tokenizer.pkl\", \"rb\"))\n",
    "\n"
   ]
  },
  {
   "cell_type": "markdown",
   "metadata": {},
   "source": [
    "Generation of sequence from language model"
   ]
  },
  {
   "cell_type": "code",
   "execution_count": null,
   "metadata": {},
   "outputs": [],
   "source": [
    "# generate a sequence from a language model\n",
    "def generate_seq(model, tokenizer, seq_length, seed_text, n_words):\n",
    "    result = list()\n",
    "    in_text = seed_text\n",
    "    # generate a fixed number of words\n",
    "    for _ in range(n_words):\n",
    "        # encode the text as integer\n",
    "        encoded = tokenizer.texts_to_sequences([in_text])[0]\n",
    "        # truncate sequences to a fixed length\n",
    "        encoded = pad_sequences([encoded], maxlen=seq_length, truncating=\"pre\")\n",
    "        # predict probabilities for each word\n",
    "        yhat = model.predict_classes(encoded, verbose=0)\n",
    "        # map predicted word index to word\n",
    "        out_word = \"\"\n",
    "        for word, index in tokenizer.word_index.items():\n",
    "            if index == yhat:\n",
    "                out_word = word\n",
    "                break\n",
    "        # append to input\n",
    "        in_text += \" \" + out_word\n",
    "        result.append(out_word)\n",
    "    return \" \".join(result)"
   ]
  },
  {
   "cell_type": "markdown",
   "metadata": {},
   "source": [
    "Generating a random seed and generate a sequence from the method above. "
   ]
  },
  {
   "cell_type": "code",
   "execution_count": null,
   "metadata": {},
   "outputs": [],
   "source": [
    "# select a seed text\n",
    "seed_text = lines[randint(0, len(lines))]\n",
    "print(seed_text + \"\\n\")\n",
    "\n",
    "# generate new text\n",
    "generated = generate_seq(model, tokenizer, seq_length, seed_text, 50)\n",
    "print(generated)"
   ]
  },
  {
   "cell_type": "markdown",
   "metadata": {},
   "source": [
    "## Output : \n",
    "\n",
    "212049/212049 [==============================] - 602s 3ms/step - loss: 6.4921 - acc: 0.0520    \n",
    "Epoch 2/5  \n",
    "212049/212049 [==============================] - 624s 3ms/step - loss: 6.2987 - acc: 0.1210  \n",
    "Epoch 3/5  \n",
    "212049/212049 [==============================] - 701s 3ms/step - loss: 5.9302 - acc: 0.1536  \n",
    "Epoch 4/5  \n",
    "212049/212049 [==============================] - 769s 3ms/step - loss: 5.7015 - acc: 0.1689  \n",
    "Epoch 5/5  \n",
    "212049/212049 [==============================] - 830s 4ms/step - loss: 5.6190 - acc: 0.1761  \n",
    "dry insects are dictionaries language sharing is boards insect dry cleaners needs the shop naturally cow europe metal has limited space socks relatives is a continent high blood pressure cannot  \n",
    "  \n",
    "insect the dry cleaners is dry soil language   \n"
   ]
  },
  {
   "cell_type": "markdown",
   "metadata": {},
   "source": [
    "### BERT (Bidirectional Encoder Representations from Transformers) :  \n",
    "#### What is BERT ?  \n",
    "BERT is a language model based on Transformer architecture.  \n",
    "It is used to pre-train the unlabelled text from both the directions instead of the one-directional approach which we use in most of the models.  \n",
    "i.e. It adds both the left and right side features and calculates conditional dependancy.  "
   ]
  },
  {
   "cell_type": "code",
   "execution_count": null,
   "metadata": {},
   "outputs": [],
   "source": [
    "bertMaskedLM = BertForMaskedLM.from_pretrained(\"bert-base-uncased\")\n",
    "\n",
    "tokenizer = BertTokenizer.from_pretrained(\"bert-base-uncased\")"
   ]
  },
  {
   "cell_type": "code",
   "execution_count": null,
   "metadata": {},
   "outputs": [],
   "source": [
    "trainDatadf = pd.read_csv(\n",
    "    \"Training  Data/Training  Data/subtaskC_data_all.csv\", encoding=\"utf-8\"\n",
    ")\n",
    "trainLabeldf = pd.read_csv(\n",
    "    \"Training  Data/Training  Data/subtaskC_answers_all.csv\",\n",
    "    encoding=\"utf-8\",\n",
    "    header=None,\n",
    ")\n",
    "\n",
    "trialDatadf = pd.read_csv(\n",
    "    \"Trial Data/Trial Data/taskC_trial_data.csv\", encoding=\"utf-8\"\n",
    ")\n",
    "trialLabeldf = pd.read_csv(\n",
    "    \"Trial Data/Trial Data/taskC_trial_references.csv\", encoding=\"utf-8\", header=None\n",
    ")\n",
    "\n",
    "\n"
   ]
  },
  {
   "cell_type": "code",
   "execution_count": null,
   "metadata": {},
   "outputs": [],
   "source": [
    "trainLabeldf.rename(\n",
    "    columns={0: \"id\", 1: \"answerA\", 2: \"answerB\", 3: \"answerC\"}, inplace=True\n",
    ")\n",
    "trialLabeldf.rename(\n",
    "    columns={0: \"id\", 1: \"answerA\", 2: \"answerB\", 3: \"answerC\"}, inplace=True\n",
    ")"
   ]
  },
  {
   "cell_type": "code",
   "execution_count": null,
   "metadata": {},
   "outputs": [],
   "source": [
    "def get_score(sentence):\n",
    "    tokenize_input = tokenizer.tokenize(sentence)\n",
    "    tensor_input = torch.tensor([tokenizer.convert_tokens_to_ids(tokenize_input)])\n",
    "    predictions = bertMaskedLM(tensor_input)\n",
    "    loss_fct = torch.nn.CrossEntropyLoss()\n",
    "    loss = loss_fct(predictions.squeeze(), tensor_input.squeeze()).data\n",
    "    return math.exp(loss)"
   ]
  },
  {
   "cell_type": "code",
   "execution_count": null,
   "metadata": {},
   "outputs": [],
   "source": [
    "inputArr = (trainDatadf[\"FalseSent\"]).tolist()\n"
   ]
  },
  {
   "cell_type": "markdown",
   "metadata": {},
   "source": [
    "The BERT code is not completed due to time limitation on my part.  "
   ]
  }
 ],
 "metadata": {
  "kernelspec": {
   "display_name": "Python 3",
   "language": "python",
   "name": "python3"
  },
  "language_info": {
   "codemirror_mode": {
    "name": "ipython",
    "version": 3
   },
   "file_extension": ".py",
   "mimetype": "text/x-python",
   "name": "python",
   "nbconvert_exporter": "python",
   "pygments_lexer": "ipython3",
   "version": "3.7.3"
  }
 },
 "nbformat": 4,
 "nbformat_minor": 2
}
